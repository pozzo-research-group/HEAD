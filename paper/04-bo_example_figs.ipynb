{
 "cells": [
  {
   "cell_type": "code",
   "execution_count": 8,
   "metadata": {},
   "outputs": [],
   "source": [
    "import numpy as np\n",
    "import warnings\n",
    "warnings.filterwarnings(\"ignore\")"
   ]
  },
  {
   "cell_type": "code",
   "execution_count": 9,
   "metadata": {},
   "outputs": [],
   "source": [
    "from botorch.models.gp_regression import SingleTaskGP\n",
    "from botorch.models.transforms.outcome import Standardize\n",
    "\n",
    "import torch\n",
    "tkwargs = {\n",
    "    \"dtype\": torch.double,\n",
    "    \"device\": torch.device(\"cuda\" if torch.cuda.is_available() else \"cpu\"),\n",
    "}\n",
    "import pandas as pd\n",
    "import matplotlib.pyplot as plt\n",
    "from matplotlib import cm\n",
    "from matplotlib.colors import Normalize \n",
    "from mpl_toolkits.axes_grid1 import make_axes_locatable\n",
    "import torch\n",
    "from head import InputTransform, Grid \n",
    "from apdist import AmplitudePhaseDistance as dist \n",
    "\n",
    "pyplot_style ={\"text.usetex\": True,\n",
    "               \"text.latex.preamble\": r\"\\usepackage{amsfonts}\\usepackage[version=4]{mhchem}\",\n",
    "               \"axes.spines.right\" : False,\n",
    "               \"axes.spines.top\" : False,\n",
    "               \"font.size\": 22,\n",
    "               \"savefig.dpi\": 600,\n",
    "               \"savefig.bbox\": 'tight'\n",
    "              } "
   ]
  },
  {
   "cell_type": "code",
   "execution_count": 10,
   "metadata": {},
   "outputs": [],
   "source": [
    "TARGET_SHAPE = 'Easy'\n",
    "\n",
    "if TARGET_SHAPE=='Easy':\n",
    "    target = [6.2,3.6]\n",
    "    target_spectra = np.asarray(pd.read_excel('./exptdata/Target_Easy.xlsx'))\n",
    "elif TARGET_SHAPE=='Hard':\n",
    "    target = [0,0]\n",
    "    target_spectra = np.asarray(pd.read_excel('./exptdata/Target_Hard.xlsx'))   \n",
    "AG = [0,7.38] \n",
    "AA = [0,7.27]\n",
    "bounds = [AG, AA]\n",
    "bounds_params = torch.tensor(bounds).T.to(**tkwargs)\n",
    "inp = InputTransform(bounds_params)"
   ]
  },
  {
   "cell_type": "code",
   "execution_count": 11,
   "metadata": {},
   "outputs": [
    {
     "data": {
      "image/png": "[encoded data removed]",
      "text/plain": [
       "<Figure size 300x300 with 1 Axes>"
      ]
     },
     "metadata": {},
     "output_type": "display_data"
    }
   ],
   "source": [
    "with plt.style.context(pyplot_style):\n",
    "    fig, ax = plt.subplots(figsize=(3,3))\n",
    "    ax.plot(target_spectra[:,0], target_spectra[:,1], lw=2.0, color=\"tab:red\")\n",
    "    plt.savefig(\"../figures/target.png\")\n",
    "    plt.show()"
   ]
  },
  {
   "cell_type": "code",
   "execution_count": 12,
   "metadata": {},
   "outputs": [
    {
     "data": {
      "image/png": "[encoded data removed]",
      "text/plain": [
       "<Figure size 100x100 with 1 Axes>"
      ]
     },
     "metadata": {},
     "output_type": "display_data"
    }
   ],
   "source": [
    "with plt.style.context(pyplot_style):\n",
    "    fig, ax = plt.subplots(figsize=(1,1))\n",
    "    ax.plot(target_spectra[:,0], target_spectra[:,1], lw=2.0, color=\"tab:red\")\n",
    "    ax.axis('off')\n",
    "    plt.savefig(\"../figures/target_tiny.png\")\n",
    "    plt.show()"
   ]
  },
  {
   "cell_type": "code",
   "execution_count": 13,
   "metadata": {},
   "outputs": [],
   "source": [
    "def inset_spectra(loc,data, ax, **kwargs):\n",
    "    loc_ax = ax.transLimits.transform(loc)\n",
    "    ins_ax = ax.inset_axes([loc_ax[0]-0.05,loc_ax[1]-0.05,0.2,0.2])\n",
    "    ins_ax.plot(target_spectra[:,0], data, **kwargs)\n",
    "    ins_ax.axis('off')\n",
    "\n",
    "    return \n",
    "\n",
    "class MinMaxScaler:\n",
    "    def __init__(self, min, max):\n",
    "        self.min = min \n",
    "        self.max = max \n",
    "        self.range = max-min\n",
    "\n",
    "    def transform(self, x):\n",
    "        return (x-self.min)/self.range\n",
    "    \n",
    "    def inverse(self, xt):\n",
    "        return (self.range*xt)+self.min\n",
    "\n",
    "def scaled_tickformat(scaler, x, pos):\n",
    "    return '%.1f'%scaler.inverse(x)\n",
    "    \n",
    "class Visualize:\n",
    "    def __init__(self, directory):\n",
    "        self.dir = directory\n",
    "        self.min_postmean = {}\n",
    "        \n",
    "    def get_model(self, iteration):\n",
    "        idirec = self.dir + '/%d'%iteration \n",
    "        self.train_x = torch.from_numpy(np.load(idirec+'/train_x.npy')).to(**tkwargs)\n",
    "        self.train_obj = torch.from_numpy(np.load(idirec+'/train_obj.npy')).to(**tkwargs)\n",
    "        model = SingleTaskGP(self.train_x, self.train_obj, \n",
    "                    outcome_transform=Standardize(m=self.train_obj.shape[-1]))\n",
    "        state_dict = torch.load(idirec+'/model.pth')\n",
    "        model.load_state_dict(state_dict)\n",
    "        self.model = model\n",
    "        try:\n",
    "            self.best_estimate = pd.read_excel(self.dir+'/Best_Estimate_%d.xlsx'%(iteration))\n",
    "        except:\n",
    "            self.best_estimate = None\n",
    "    \n",
    "        with torch.no_grad():\n",
    "            self.n_grid = 20\n",
    "            mu_grid = np.linspace(*bounds[0], num=self.n_grid)\n",
    "            sig_grid = np.linspace(*bounds[1], num=self.n_grid)\n",
    "            self.XX, self.YY = np.meshgrid(mu_grid, sig_grid)\n",
    "            self.test_x = np.vstack([self.XX.ravel(), self.YY.ravel()]).T \n",
    "            self.test_x_t = inp.transform(torch.tensor(self.test_x).to(**tkwargs))\n",
    "            posterior = self.model.posterior(self.test_x_t)\n",
    "            self.posterior_mean = posterior.mean.cpu().numpy()\n",
    "            lower, upper = posterior.mvn.confidence_region()\n",
    "            self.confidence = np.abs((lower-upper).numpy())\n",
    "        \n",
    "        self.min_postmean[iteration] = self.posterior_mean.min()\n",
    "        \n",
    "        return \n",
    "    \n",
    "    def add_collected_points(self, ax, **kwargs):\n",
    "        train_x_unscaled = inp.inverse(self.train_x)\n",
    "        points = ax.scatter(train_x_unscaled[:,0], train_x_unscaled[:,1], \n",
    "                   marker='o', fc='none', edgecolors=kwargs.get(\"edgecolors\", \"k\"), \n",
    "                   lw=2.0)\n",
    "        \n",
    "        return points        \n",
    "    \n",
    "    def add_gp_mean(self, ax, **kwargs):\n",
    "        Z =  self.posterior_mean.reshape(self.n_grid, self.n_grid)\n",
    "        mean = ax.contourf(self.XX, self.YY, Z, **kwargs)\n",
    "\n",
    "        return mean\n",
    "    \n",
    "    def add_gp_var(self, ax, **kwargs):\n",
    "        Z = self.confidence.reshape(self.n_grid, self.n_grid)\n",
    "        var = ax.contourf(self.XX, self.YY, Z, **kwargs)\n",
    "\n",
    "        return var  \n",
    "\n",
    "    def add_distance_values(self, ax, **kwargs):\n",
    "        train_x_unscaled = inp.inverse(self.train_x) \n",
    "        for i in range(len(train_x_unscaled)):\n",
    "            annotate_value = \"%.2f\"%np.abs(self.train_obj[i]) \n",
    "            ax.text(train_x_unscaled[i,0], train_x_unscaled[i,1], annotate_value) \n",
    "    \n",
    "    def add_collected_spectra(self, iteration, ax, **kwargs):\n",
    "        scaler_x = MinMaxScaler(bounds[0][0], bounds[0][1])\n",
    "        scaler_y = MinMaxScaler(bounds[1][0], bounds[1][1])\n",
    "        idirec = self.dir + '/%d'%(iteration-1)\n",
    "        iter_spectra = pd.read_excel(idirec+'.xlsx')\n",
    "        iter_comps = np.load(self.dir + '/%d'%(iteration-1) +'/new_x.npy')\n",
    "        AG_x = iter_comps[:,0]*0.00064/350*10**5\n",
    "        AA_x = iter_comps[:,1]*0.00630/350*10**4\n",
    "        iter_comps = np.hstack((AG_x.reshape(-1,1)-0.1, AA_x.reshape(-1,1)-0.1))\n",
    "        for ind,comp in enumerate(iter_comps):\n",
    "            norm_ci = np.array([scaler_x.transform(comp[0]), scaler_y.transform(comp[1])]) \n",
    "            inset_spectra(norm_ci, iter_spectra.iloc[:,ind+1], ax, color=kwargs.get(\"color\", \"k\"), lw=2.0)\n",
    "      \n",
    "        return ax \n",
    "    \n",
    "    def _add_colorbar(self, mappable, fig, ax):\n",
    "        divider = make_axes_locatable(ax)\n",
    "        cax = divider.append_axes('right', size='5%', pad=0.1)\n",
    "        cbar = fig.colorbar(mappable, cax=cax)\n",
    "\n",
    "        return cbar"
   ]
  },
  {
   "cell_type": "code",
   "execution_count": 14,
   "metadata": {},
   "outputs": [
    {
     "data": {
      "image/png": "[encoded data removed]",
      "text/plain": [
       "<Figure size 300x300 with 1 Axes>"
      ]
     },
     "metadata": {},
     "output_type": "display_data"
    }
   ],
   "source": [
    "viz = Visualize('./exptdata/data_AP_%s'%TARGET_SHAPE) \n",
    "ITERATION = 1\n",
    "viz.get_model(ITERATION)\n",
    "\n",
    "with plt.style.context(pyplot_style):\n",
    "    fig, ax = plt.subplots(figsize=(3,3))\n",
    "    viz.add_collected_points(ax) \n",
    "    plt.savefig(\"../figures/A%d.png\"%ITERATION)\n",
    "    plt.show()"
   ]
  },
  {
   "cell_type": "code",
   "execution_count": 15,
   "metadata": {},
   "outputs": [
    {
     "data": {
      "image/png": "[encoded data removed]",
      "text/plain": [
       "<Figure size 300x300 with 1 Axes>"
      ]
     },
     "metadata": {},
     "output_type": "display_data"
    }
   ],
   "source": [
    "with plt.style.context(pyplot_style):\n",
    "    fig, ax = plt.subplots(figsize=(3,3))\n",
    "    viz.add_collected_spectra(ITERATION, ax)\n",
    "    viz.add_collected_points(ax)\n",
    "    plt.savefig(\"../figures/B%d.png\"%ITERATION)\n",
    "    plt.show()"
   ]
  },
  {
   "cell_type": "code",
   "execution_count": 16,
   "metadata": {},
   "outputs": [
    {
     "data": {
      "image/png": "[encoded data removed]",
      "text/plain": [
       "<Figure size 300x300 with 1 Axes>"
      ]
     },
     "metadata": {},
     "output_type": "display_data"
    }
   ],
   "source": [
    "with plt.style.context(pyplot_style):\n",
    "    fig, ax = plt.subplots(figsize=(3,3))\n",
    "    viz.add_distance_values(ax)\n",
    "    viz.add_collected_points(ax)\n",
    "    plt.savefig(\"../figures/C%d.png\"%ITERATION)\n",
    "    plt.show()"
   ]
  },
  {
   "cell_type": "code",
   "execution_count": 17,
   "metadata": {},
   "outputs": [
    {
     "data": {
      "image/png": "[encoded data removed]",
      "text/plain": [
       "<Figure size 600x300 with 3 Axes>"
      ]
     },
     "metadata": {},
     "output_type": "display_data"
    }
   ],
   "source": [
    "with plt.style.context(pyplot_style):\n",
    "    fig, axs = plt.subplots(1,2, figsize=(3*2,3))\n",
    "    fig.subplots_adjust(wspace=0.35)\n",
    "    im1 = viz.add_gp_mean(axs[0], cmap=\"bwr\")\n",
    "    im2 = viz.add_gp_var(axs[1], cmap=\"bwr\")\n",
    "    cbar = fig.colorbar(im1, ax=axs, orientation='horizontal', fraction=.1, ticks=[viz.posterior_mean.min(), viz.posterior_mean.max()])\n",
    "    cbar.ax.set_xticklabels([\"High\", \"Low\"])  # vertically oriented colorbar\n",
    "    plt.savefig(\"../figures/D%d.png\"%ITERATION)\n",
    "    plt.show()"
   ]
  },
  {
   "cell_type": "code",
   "execution_count": null,
   "metadata": {},
   "outputs": [],
   "source": []
  }
 ],
 "metadata": {
  "kernelspec": {
   "display_name": "head-jupyter",
   "language": "python",
   "name": "head"
  },
  "language_info": {
   "codemirror_mode": {
    "name": "ipython",
    "version": 3
   },
   "file_extension": ".py",
   "mimetype": "text/x-python",
   "name": "python",
   "nbconvert_exporter": "python",
   "pygments_lexer": "ipython3",
   "version": "3.11.5"
  },
  "orig_nbformat": 4
 },
 "nbformat": 4,
 "nbformat_minor": 2
}
